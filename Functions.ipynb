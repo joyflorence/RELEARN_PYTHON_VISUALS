{
 "cells": [
  {
   "cell_type": "markdown",
   "metadata": {},
   "source": [
    "## FUNCTIONS"
   ]
  },
  {
   "cell_type": "code",
   "execution_count": 2,
   "metadata": {},
   "outputs": [
    {
     "name": "stdout",
     "output_type": "stream",
     "text": [
      "Hello, Joy Florence\n"
     ]
    }
   ],
   "source": [
    "def hello(name):\n",
    "    print(f\"Hello, {name}\")\n",
    "name = input(\"Enter name: \")\n",
    "hello(name)"
   ]
  },
  {
   "cell_type": "code",
   "execution_count": 12,
   "metadata": {},
   "outputs": [
    {
     "name": "stdout",
     "output_type": "stream",
     "text": [
      "Hello, Joy!\n"
     ]
    }
   ],
   "source": [
    "#Functions with parameters\n",
    "def greet(name):\n",
    "    print(f\"Hello, {name}!\")\n",
    "greet(\"Joy\")\n"
   ]
  },
  {
   "cell_type": "code",
   "execution_count": 11,
   "metadata": {},
   "outputs": [
    {
     "name": "stdout",
     "output_type": "stream",
     "text": [
      "Enter Telephone number 1\n",
      "Enter Nokia number 2\n"
     ]
    }
   ],
   "source": [
    "def message(what,number):\n",
    "    print(\"Enter\", what,\"number\", number)\n",
    "\n",
    "message(\"Telephone\",1)\n",
    "message(\"Nokia\",2)"
   ]
  },
  {
   "cell_type": "code",
   "execution_count": 13,
   "metadata": {},
   "outputs": [
    {
     "name": "stdout",
     "output_type": "stream",
     "text": [
      "My name is  Joy Awor\n",
      "My name is  Jone Doses\n"
     ]
    }
   ],
   "source": [
    "def introduction(Firstname,Lastname):\n",
    "    print(\"My name is \",Firstname, Lastname)\n",
    "introduction(\"Joy\",\"Awor\")\n",
    "introduction(\"Jone\",\"Doses\")"
   ]
  },
  {
   "cell_type": "code",
   "execution_count": 5,
   "metadata": {},
   "outputs": [
    {
     "name": "stdout",
     "output_type": "stream",
     "text": [
      "Hello,Joy!\n"
     ]
    }
   ],
   "source": [
    "def greet(name):\n",
    "    if not name:\n",
    "        return None\n",
    "    else:\n",
    "        print(f\"Hello,{name}!\")\n",
    "name = \"Joy\"\n",
    "greet(name)\n",
    "    \n"
   ]
  },
  {
   "cell_type": "code",
   "execution_count": 10,
   "metadata": {},
   "outputs": [
    {
     "name": "stdout",
     "output_type": "stream",
     "text": [
      "None\n",
      "True\n",
      "None\n"
     ]
    }
   ],
   "source": [
    "def strange_func(n):\n",
    "    if(n % 2 == 0):\n",
    "        return True\n",
    "print(strange_func(1))\n",
    "print(strange_func(2))\n",
    "print(strange_func(5))"
   ]
  },
  {
   "cell_type": "code",
   "execution_count": 27,
   "metadata": {},
   "outputs": [
    {
     "name": "stdout",
     "output_type": "stream",
     "text": [
      "12 12\n"
     ]
    }
   ],
   "source": [
    "x = 10\n",
    "y = 12\n",
    "x = y\n",
    "print(x, y)"
   ]
  },
  {
   "cell_type": "markdown",
   "metadata": {},
   "source": [
    "## QUIZZ"
   ]
  },
  {
   "cell_type": "code",
   "execution_count": 30,
   "metadata": {},
   "outputs": [
    {
     "name": "stdout",
     "output_type": "stream",
     "text": [
      "Negative\n"
     ]
    }
   ],
   "source": [
    "#qtn 22\n",
    "\n",
    "def is_positive(num):\n",
    "    if num > 0:\n",
    "        return \"Positive\"\n",
    "    elif num < 0:\n",
    "        return \"Negative\"\n",
    "    else:\n",
    "        return \"Zero\"\n",
    "\n",
    "print(is_positive(-5))"
   ]
  },
  {
   "cell_type": "code",
   "execution_count": 31,
   "metadata": {},
   "outputs": [
    {
     "name": "stdout",
     "output_type": "stream",
     "text": [
      "8\n"
     ]
    }
   ],
   "source": [
    "def absolute_value(x):\n",
    "    if x < 0:\n",
    "        return -x\n",
    "    else:\n",
    "        return x\n",
    "\n",
    "print(absolute_value(-8))"
   ]
  },
  {
   "cell_type": "code",
   "execution_count": 34,
   "metadata": {},
   "outputs": [
    {
     "name": "stdout",
     "output_type": "stream",
     "text": [
      "3\n"
     ]
    }
   ],
   "source": [
    "my_set = {1, 2, 3, 2}\n",
    "print(len(my_set))"
   ]
  },
  {
   "cell_type": "code",
   "execution_count": 29,
   "metadata": {},
   "outputs": [
    {
     "name": "stdout",
     "output_type": "stream",
     "text": [
      "11\n"
     ]
    }
   ],
   "source": [
    "def mystery_function(num):\n",
    "    return num * 2 + 1\n",
    "\n",
    "result = mystery_function(5)\n",
    "print(result)"
   ]
  },
  {
   "cell_type": "code",
   "execution_count": 28,
   "metadata": {},
   "outputs": [
    {
     "name": "stdout",
     "output_type": "stream",
     "text": [
      "4\n"
     ]
    }
   ],
   "source": [
    "x = [1, 2, 3, 4]\n",
    "print(x[-1])"
   ]
  },
  {
   "cell_type": "code",
   "execution_count": 3,
   "metadata": {},
   "outputs": [
    {
     "name": "stdout",
     "output_type": "stream",
     "text": [
      "[4, 3, 2, 1, 0]\n"
     ]
    }
   ],
   "source": [
    "def my_list(n):\n",
    "    my_list = []\n",
    "\n",
    "    for i in range (0,n):\n",
    "        my_list.insert(0,i)\n",
    "    return my_list\n",
    "\n",
    "print(my_list(5))"
   ]
  },
  {
   "cell_type": "code",
   "execution_count": 15,
   "metadata": {},
   "outputs": [
    {
     "name": "stdout",
     "output_type": "stream",
     "text": [
      "1900 -> OK\n",
      "2000 -> OK\n",
      "2016 -> OK\n",
      "1987 -> OK\n"
     ]
    }
   ],
   "source": [
    "def is_year_leap(year):\n",
    "    if year % 4 != 0:\n",
    "        return False  # Not a leap year\n",
    "    elif year % 100 != 0:\n",
    "        return True  # Leap year\n",
    "    elif year % 400 != 0:\n",
    "        return False  # Not a leap year\n",
    "    else:\n",
    "        return True  # Leap year\n",
    "\n",
    "# Test data\n",
    "test_data = [1900, 2000, 2016, 1987]\n",
    "test_results = [False, True, True, False]\n",
    "\n",
    "# Testing the function\n",
    "for i in range(len(test_data)):\n",
    "    yr = test_data[i]\n",
    "    print(yr, \"-> \", end=\"\")\n",
    "    result = is_year_leap(yr)\n",
    "    if result == test_results[i]:\n",
    "        print(\"OK\")\n",
    "    else:\n",
    "        print(\"Failed\")"
   ]
  },
  {
   "cell_type": "code",
   "execution_count": null,
   "metadata": {},
   "outputs": [],
   "source": [
    "#def is_year_leap(year):\n",
    "    #\n",
    "    # Your code from the previous LAB.\n",
    "    #\n",
    "\n",
    "#def days_in_month(year, month):\n",
    "    #\n",
    "    # Your code from the previous lab.\n",
    "    #\n",
    "\n",
    "#def day_of_year(year, month, day):\n",
    "    #\n",
    "    # Write your new code here.\n",
    "    #\n",
    "\n",
    "#print(day_of_year(2000, 12, 31))"
   ]
  },
  {
   "cell_type": "markdown",
   "metadata": {},
   "source": [
    "## prime numbers"
   ]
  },
  {
   "cell_type": "code",
   "execution_count": 16,
   "metadata": {},
   "outputs": [
    {
     "name": "stdout",
     "output_type": "stream",
     "text": [
      "2 3 5 7 11 13 17 19 \n"
     ]
    }
   ],
   "source": [
    "def is_prime(num):\n",
    "    if num <= 1:\n",
    "        return False  \n",
    "    for i in range(2, int(num**0.5) + 1): #((num**0.5 )square root )\n",
    "        if num % i == 0:\n",
    "            return False  \n",
    "    return True  \n",
    "for i in range(1, 20):\n",
    "    if is_prime(i + 1):\n",
    "        print(i + 1, end=\" \")\n",
    "print()"
   ]
  },
  {
   "cell_type": "code",
   "execution_count": 24,
   "metadata": {},
   "outputs": [
    {
     "name": "stdout",
     "output_type": "stream",
     "text": [
      "The value is: 123\n",
      "123\n"
     ]
    }
   ],
   "source": [
    "def scope_test():\n",
    "    global x\n",
    "    x = 123 \n",
    "    print(f\"The value is: {x}\") \n",
    "x = 5\n",
    "scope_test()\n",
    "print(x)\n"
   ]
  },
  {
   "cell_type": "markdown",
   "metadata": {},
   "source": [
    "## functions cisco"
   ]
  },
  {
   "cell_type": "code",
   "execution_count": 14,
   "metadata": {},
   "outputs": [
    {
     "name": "stdout",
     "output_type": "stream",
     "text": [
      "Do I know that variable? 1\n",
      "1\n"
     ]
    }
   ],
   "source": [
    "def my_function():\n",
    "    print(\"Do I know that variable?\", var)\n",
    "\n",
    "\n",
    "var = 1\n",
    "my_function()\n",
    "print(var)\n"
   ]
  },
  {
   "cell_type": "code",
   "execution_count": null,
   "metadata": {},
   "outputs": [],
   "source": [
    "#def liters_100km_to_miles_gallon(liters):\n",
    "    #\n",
    "    # Write your code here.\n",
    "    #\n",
    "\n",
    "#def miles_gallon_to_liters_100km(miles):\n",
    "    #\n",
    "    # Write your code here.\n",
    "    #\n",
    "\n",
    "#print(liters_100km_to_miles_gallon(3.9))\n",
    "#print(liters_100km_to_miles_gallon(7.5))\n",
    "#print(liters_100km_to_miles_gallon(10.))\n",
    "#print(miles_gallon_to_liters_100km(60.3))"
   ]
  },
  {
   "cell_type": "markdown",
   "metadata": {},
   "source": [
    "## computing even numbers with function and for loop"
   ]
  },
  {
   "cell_type": "code",
   "execution_count": 17,
   "metadata": {},
   "outputs": [
    {
     "name": "stdout",
     "output_type": "stream",
     "text": [
      "[2, 4, 6, 8, 10, 12, 14, 16, 18, 20]\n"
     ]
    }
   ],
   "source": [
    "def compute_even_numbers(start, end):\n",
    "    even_numbers = []\n",
    "    for num in range(start, end + 1):\n",
    "        if num % 2 == 0:\n",
    "            even_numbers.append(num)\n",
    "    return even_numbers\n",
    "result = compute_even_numbers(1, 20)\n",
    "print(result)  "
   ]
  },
  {
   "cell_type": "code",
   "execution_count": 18,
   "metadata": {},
   "outputs": [
    {
     "name": "stdout",
     "output_type": "stream",
     "text": [
      "[2, 4, 6, 8, 10, 12, 14, 16, 18, 20]\n"
     ]
    }
   ],
   "source": [
    "start = 1\n",
    "end = 20\n",
    "even_numbers = []\n",
    "\n",
    "for num in range(start, end + 1):\n",
    "    if num % 2 == 0:\n",
    "        even_numbers.append(num)\n",
    "\n",
    "print(even_numbers)  "
   ]
  },
  {
   "cell_type": "code",
   "execution_count": 31,
   "metadata": {},
   "outputs": [
    {
     "name": "stdout",
     "output_type": "stream",
     "text": [
      "Sum of even numbers is: 110\n"
     ]
    }
   ],
   "source": [
    "start = 1\n",
    "end = 20\n",
    "sum_even = 0\n",
    "\n",
    "\n",
    "for num in range(start, end + 1):\n",
    "    if num % 2 == 0:\n",
    "        sum_even += num\n",
    "\n",
    "print(f\"Sum of even numbers is: {sum_even}\")  "
   ]
  },
  {
   "cell_type": "markdown",
   "metadata": {},
   "source": [
    "## odd numbers computation"
   ]
  },
  {
   "cell_type": "code",
   "execution_count": 3,
   "metadata": {},
   "outputs": [
    {
     "name": "stdout",
     "output_type": "stream",
     "text": [
      "[1, 3, 5, 7, 9, 11, 13, 15, 17, 19, 21, 23, 25, 27, 29, 31, 33, 35, 37, 39, 41, 43, 45]\n"
     ]
    }
   ],
   "source": [
    "start = 1\n",
    "end = 45\n",
    "odd_numbers = []\n",
    "\n",
    "for num in range(start, end + 1):\n",
    "    if num % 2 != 0:\n",
    "       odd_numbers.append(num)\n",
    "\n",
    "print(odd_numbers)  "
   ]
  },
  {
   "cell_type": "code",
   "execution_count": 27,
   "metadata": {},
   "outputs": [
    {
     "name": "stdout",
     "output_type": "stream",
     "text": [
      "The sum of odd numbers is: 100\n"
     ]
    }
   ],
   "source": [
    "start = 1\n",
    "end = 20\n",
    "sum_of_odds = 0\n",
    "\n",
    "for num in range(start, end + 1):\n",
    "    if num % 2 != 0:  \n",
    "        sum_of_odds += num \n",
    "print(f\"The sum of odd numbers is: {sum_of_odds}\")"
   ]
  },
  {
   "cell_type": "markdown",
   "metadata": {},
   "source": [
    "## while loop for even numbers"
   ]
  },
  {
   "cell_type": "code",
   "execution_count": 6,
   "metadata": {},
   "outputs": [
    {
     "name": "stdout",
     "output_type": "stream",
     "text": [
      "[0, 2, 4, 6, 8, 10, 12, 14, 16, 18, 20, 22, 24, 26, 28, 30, 32, 34, 36, 38, 40, 42, 44, 46, 48, 50, 52, 54]\n"
     ]
    }
   ],
   "source": [
    "start = 0\n",
    "end = 55\n",
    "even_numbers = []\n",
    "\n",
    "num = start\n",
    "while num <= end:\n",
    "    if num % 2 == 0:\n",
    "        even_numbers.append(num)\n",
    "    num += 1  # Increment the number\n",
    "\n",
    "print(even_numbers) "
   ]
  }
 ],
 "metadata": {
  "kernelspec": {
   "display_name": "Python 3",
   "language": "python",
   "name": "python3"
  },
  "language_info": {
   "codemirror_mode": {
    "name": "ipython",
    "version": 3
   },
   "file_extension": ".py",
   "mimetype": "text/x-python",
   "name": "python",
   "nbconvert_exporter": "python",
   "pygments_lexer": "ipython3",
   "version": "3.12.4"
  }
 },
 "nbformat": 4,
 "nbformat_minor": 2
}
