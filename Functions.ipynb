{
 "cells": [
  {
   "cell_type": "markdown",
   "metadata": {},
   "source": [
    "## FUNCTIONS"
   ]
  },
  {
   "cell_type": "code",
   "execution_count": 2,
   "metadata": {},
   "outputs": [
    {
     "name": "stdout",
     "output_type": "stream",
     "text": [
      "Hello, Joy Florence\n"
     ]
    }
   ],
   "source": [
    "def hello(name):\n",
    "    print(f\"Hello, {name}\")\n",
    "name = input(\"Enter name: \")\n",
    "hello(name)"
   ]
  },
  {
   "cell_type": "code",
   "execution_count": 12,
   "metadata": {},
   "outputs": [
    {
     "name": "stdout",
     "output_type": "stream",
     "text": [
      "Hello, Joy!\n"
     ]
    }
   ],
   "source": [
    "#Functions with parameters\n",
    "def greet(name):\n",
    "    print(f\"Hello, {name}!\")\n",
    "greet(\"Joy\")\n"
   ]
  },
  {
   "cell_type": "code",
   "execution_count": 11,
   "metadata": {},
   "outputs": [
    {
     "name": "stdout",
     "output_type": "stream",
     "text": [
      "Enter Telephone number 1\n",
      "Enter Nokia number 2\n"
     ]
    }
   ],
   "source": [
    "def message(what,number):\n",
    "    print(\"Enter\", what,\"number\", number)\n",
    "\n",
    "message(\"Telephone\",1)\n",
    "message(\"Nokia\",2)"
   ]
  },
  {
   "cell_type": "code",
   "execution_count": 13,
   "metadata": {},
   "outputs": [
    {
     "name": "stdout",
     "output_type": "stream",
     "text": [
      "My name is  Joy Awor\n",
      "My name is  Jone Doses\n"
     ]
    }
   ],
   "source": [
    "def introduction(Firstname,Lastname):\n",
    "    print(\"My name is \",Firstname, Lastname)\n",
    "introduction(\"Joy\",\"Awor\")\n",
    "introduction(\"Jone\",\"Doses\")"
   ]
  }
 ],
 "metadata": {
  "kernelspec": {
   "display_name": "Python 3",
   "language": "python",
   "name": "python3"
  },
  "language_info": {
   "codemirror_mode": {
    "name": "ipython",
    "version": 3
   },
   "file_extension": ".py",
   "mimetype": "text/x-python",
   "name": "python",
   "nbconvert_exporter": "python",
   "pygments_lexer": "ipython3",
   "version": "3.12.4"
  }
 },
 "nbformat": 4,
 "nbformat_minor": 2
}
